{
  "nbformat": 4,
  "nbformat_minor": 0,
  "metadata": {
    "colab": {
      "name": "Noor_Shahid_Noorahman_2022_Python_Programming_Practical_1.ipynb",
      "provenance": [],
      "collapsed_sections": []
    },
    "kernelspec": {
      "name": "python3",
      "display_name": "Python 3"
    }
  },
  "cells": [
    {
      "cell_type": "markdown",
      "metadata": {
        "id": "jp3BkDml8xiR"
      },
      "source": [
        "# **2022 Python Programming Practical 1**\n",
        "\n",
        "If you do not have one already, create a [GitHub](https://github.com) account.\n",
        "\n",
        "Create a public repository ctcuc22\n",
        "\n",
        "File --> Save a copy in GitHub under this repository\n",
        "\n",
        "For the following questions,\n",
        "\n",
        "*   standard input: keyboard\n",
        "*   standard output: screen\n",
        "\n"
      ]
    },
    {
      "cell_type": "markdown",
      "metadata": {
        "id": "-U8w0oQW9P_b"
      },
      "source": [
        "**Q1. (Converting Fahrenheit to Celsius)**\n",
        "\n",
        "Write a program that reads a Fahrenheit degree as a float from standard input, then converts it to Celsius and displays the result in standard output. The formula for the conversion is:\n",
        "```\n",
        "celsius = (5/9) * (fahrenheit - 32)\n",
        "```"
      ]
    },
    {
      "cell_type": "code",
      "metadata": {
        "id": "D0uTR7B-8qbF",
        "colab": {
          "base_uri": "https://localhost:8080/"
        },
        "outputId": "06155ba3-4139-4ce5-a4db-c5d7c02b0d0f"
      },
      "source": [
        "fahrenheit = float(input('Enter  temperature in Fahrenheit : '))\n",
        "celsius = (5/9) * (fahrenheit - 32)\n",
        "print(f'temperature in Degrees Celsius = {celsius:.1f}')"
      ],
      "execution_count": null,
      "outputs": [
        {
          "output_type": "stream",
          "name": "stdout",
          "text": [
            "Enter  temperature in Fahrenheit : 99.9\n",
            "temperature in Degrees Celsius = 37.7\n"
          ]
        }
      ]
    },
    {
      "cell_type": "markdown",
      "metadata": {
        "id": "7Ui5CuS_9Za1"
      },
      "source": [
        "\n",
        "**Q2. (Computing the volume of a cylinder)**\n",
        "\n",
        "Write a program that reads in the radius and length of a cylinder and computes its volume using the formulae:\n",
        "```\n",
        "area = radius * radius * pi\n",
        "volume = area * length\n",
        "```\n",
        "\n",
        "\n"
      ]
    },
    {
      "cell_type": "code",
      "metadata": {
        "id": "CfkRAAWV9cXS",
        "colab": {
          "base_uri": "https://localhost:8080/"
        },
        "outputId": "afbd22df-e72c-4ca6-c6be-d1b5f7bf516d"
      },
      "source": [
        "import math\n",
        "\n",
        "# constants\n",
        "#pi = 3.142 # D.R.Y.  Don't Repeat Yourself\n",
        "\n",
        "# get input\n",
        "radius = int(input('Enter radius of cylinder in cm = '))\n",
        "length = int(input('Enter length of cylinder in cm = '))\n",
        "\n",
        "# process data\n",
        "area = radius * radius * math.pi\n",
        "volume = area * length\n",
        "\n",
        "# display output\n",
        "print(f'Area of cylinder = {area} cm^2')\n",
        "print(f'Volume of cylinder = {volume} cm^3')"
      ],
      "execution_count": null,
      "outputs": [
        {
          "output_type": "stream",
          "name": "stdout",
          "text": [
            "Enter radius of cylinder in cm = 5\n",
            "Enter length of cylinder in cm = 8\n",
            "Area of cylinder = 78.55 cm^2\n",
            "Volume of cylinder = 628.4 cm^3\n"
          ]
        }
      ]
    },
    {
      "cell_type": "markdown",
      "metadata": {
        "id": "aVhHiT8w9c7d"
      },
      "source": [
        "**Q3. (Converting miles into kilometers)**\n",
        "\n",
        "Write a program that reads a number in miles, converts it to kilometres, and outputs the result. One mile is 1.60934 kilometres. Display your answer correct to 3 decimal places."
      ]
    },
    {
      "cell_type": "code",
      "metadata": {
        "id": "PwRmweEa9fny",
        "colab": {
          "base_uri": "https://localhost:8080/"
        },
        "outputId": "55e83876-38ed-46ca-9afc-297a3389de01"
      },
      "source": [
        "distance_in_miles = float(input('Enter distance in miles = '))\n",
        "distance_in_kilometres = distance_in_miles * 1.60934\n",
        "print(f'Distance in kilometres = {distance_in_kilometres}')"
      ],
      "execution_count": null,
      "outputs": [
        {
          "output_type": "stream",
          "name": "stdout",
          "text": [
            "Enter distance in miles = 4\n",
            "Distance in kilometres = 6.43736\n"
          ]
        }
      ]
    },
    {
      "cell_type": "markdown",
      "metadata": {
        "id": "GwAIqQNY9gFd"
      },
      "source": [
        "**Q4. (Summing the digits in an integer)**\n",
        "\n",
        "Write a program that reads an integer between 0 and 1000 and adds all the digits in the integer. For example, if an integer is 932, the sum of all its digits is 14.\n",
        "\n",
        "Hint: Use the % operator to extract digits, and use the // operator to remove the extracted digit. For instance, 932 % 10 = 2 and 932 // 10 = 93"
      ]
    },
    {
      "cell_type": "code",
      "metadata": {
        "id": "aOozTwoR9j9B",
        "colab": {
          "base_uri": "https://localhost:8080/"
        },
        "outputId": "873845c3-2a4f-4a54-e8da-03da6d44c112"
      },
      "source": [
        "sum = 0\n",
        "number = int(input('Enter an integer between 0 and 1000 : '))\n",
        "while number > 0 :\n",
        "  digit = number % 10\n",
        "  number = number // 10\n",
        "  sum = sum + digit\n",
        "\n",
        "print(f'Sum of digits is {sum}.')\n"
      ],
      "execution_count": null,
      "outputs": [
        {
          "output_type": "stream",
          "name": "stdout",
          "text": [
            "Enter an integer between 0 and 1000 : 1234\n",
            "Sum of digits is 10.\n"
          ]
        }
      ]
    },
    {
      "cell_type": "markdown",
      "metadata": {
        "id": "lE0ScX9e9kcg"
      },
      "source": [
        "**Q5. (Converting an uppercase letter to lowercase)**\n",
        "\n",
        "Write a program that converts an uppercase letter from standard input to a lowercase letter by making use of its ASCII value.\n",
        "\n",
        "http://www.asciitable.com"
      ]
    },
    {
      "cell_type": "code",
      "metadata": {
        "id": "sE_bxwDs9mf6",
        "outputId": "7e9a6cb7-f262-4e54-aab5-747946538b42",
        "colab": {
          "base_uri": "https://localhost:8080/"
        }
      },
      "source": [
        "upper = input(\"Enter uppercase letter: \")\n",
        "\n",
        "lower = ord(upper) + 32 # ordinal\n",
        "print(chr(lower))"
      ],
      "execution_count": null,
      "outputs": [
        {
          "output_type": "stream",
          "name": "stdout",
          "text": [
            "Enter uppercase letter: P\n",
            "p\n"
          ]
        }
      ]
    },
    {
      "cell_type": "markdown",
      "metadata": {
        "id": "KSviQY0T9m7Q"
      },
      "source": [
        "**Q6. (Finding the character of an ASCII code)**\n",
        "\n",
        "Write a program that receives an ASCII value (an integer between 0 and 127) and displays its character. For example, if the user enters 97, the program displays character a.\n",
        "\n",
        "http://www.asciitable.com"
      ]
    },
    {
      "cell_type": "code",
      "metadata": {
        "id": "YbH9Pbul9rK-",
        "colab": {
          "base_uri": "https://localhost:8080/"
        },
        "outputId": "383fb095-3674-45fb-b3ec-9057de89d3ee"
      },
      "source": [
        "number = int(input('Enter ordinal number of ASCII code between 0 and 127 : '))\n",
        "print(chr(number))"
      ],
      "execution_count": null,
      "outputs": [
        {
          "output_type": "stream",
          "name": "stdout",
          "text": [
            "Enter ordinal number of ASCII code between 0 and 127 : 97\n",
            "a\n"
          ]
        }
      ]
    },
    {
      "cell_type": "markdown",
      "metadata": {
        "id": "V9Z95nlg97e4"
      },
      "source": [
        "**Q7. (Payroll)**\n",
        "\n",
        "Write a program that reads in the following information and prints a payroll statement. A sample input and output session is as follows:\n",
        "\n",
        "Sample input:\n",
        "```\n",
        "Enter name: Lim Ah Seng\n",
        "Enter number of hours worked weekly: 10\n",
        "Enter hourly pay rate: 6.75\n",
        "Enter CPF contribution rate(%): 20\n",
        "```\n",
        "\n",
        "Sample output:\n",
        "```\n",
        "Payroll statement for Lim Ah Seng\n",
        "Number of hours worked in week: 10\n",
        "Hourly pay rate: $6.75\n",
        "Gross pay = $67.50\n",
        "CPF contribution at 20% = $13.50\n",
        "Net pay = $54.00\n",
        "```\n",
        "\n"
      ]
    },
    {
      "cell_type": "code",
      "metadata": {
        "id": "1AZvvAW499PK",
        "colab": {
          "base_uri": "https://localhost:8080/"
        },
        "outputId": "7e7fcfa6-7b72-4d1d-8547-b4540b24f4ec"
      },
      "source": [
        "# get input\n",
        "name = input('Enter name: ')\n",
        "hours_worked = int(input('Enter number of hours worked weekly: '))\n",
        "hourly_pay_rate = float(input('Enter hourly pay rate: '))\n",
        "contribution_rate = int(input('Enter CPF contribution rate(%): '))\n",
        "\n",
        "# process data\n",
        "gross_pay = hours_worked * hourly_pay_rate\n",
        "cpf_contribution = gross_pay * contribution_rate /100\n",
        "net_pay = gross_pay - cpf_contribution\n",
        "\n",
        "# display output\n",
        "print()\n",
        "print(f'Payroll statement for {name}')\n",
        "print(f'Number of hours worked in week: {hours_worked}')\n",
        "print(f'Hourly pay rate: ${hourly_pay_rate:.2f}')\n",
        "print(f'Gross pay = ${gross_pay:.2f}')\n",
        "print(f'CPF contribution at {contribution_rate}% = ${cpf_contribution:.2f}')\n",
        "print(f'Net pay = ${net_pay:.2f}')"
      ],
      "execution_count": null,
      "outputs": [
        {
          "output_type": "stream",
          "name": "stdout",
          "text": [
            "Enter name: Lim Ah Seng\n",
            "Enter number of hours worked weekly: 10\n",
            "Enter hourly pay rate: 6.75\n",
            "Enter CPF contribution rate(%): 20\n",
            "\n",
            "Payroll statement for Lim Ah Seng\n",
            "Number of hours worked in week: 10\n",
            "Hourly pay rate: $6.75\n",
            "Gross pay = $67.50\n",
            "CPF contribution at 20% = $13.50\n",
            "Net pay = $54.00\n"
          ]
        }
      ]
    }
  ]
}